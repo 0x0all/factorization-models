{
 "metadata": {
  "language_info": {
   "codemirror_mode": {
    "name": "ipython",
    "version": 2
   },
   "mimetype": "text/x-python",
   "name": "python",
   "pygments_lexer": "ipython2"
  },
  "name": "",
  "signature": "sha256:af04a38d5bc4304c651c44069c7ca2edbc2b28aa3ec199993606cd44ff29ee55"
 },
 "nbformat": 3,
 "nbformat_minor": 0,
 "worksheets": [
  {
   "cells": [
    {
     "cell_type": "heading",
     "level": 1,
     "metadata": {},
     "source": [
      "Estimating quality of the Online-LDA in Vowpal Wabbit"
     ]
    },
    {
     "cell_type": "markdown",
     "metadata": {},
     "source": [
      "- Transform dataset from UCI to VW format\n",
      "- Launch LDA learning in VW (or single iteration)\n",
      "- As a result of VW's LDA: $\\lambda, \\gamma$\n",
      "- Infer from them: $\\Phi, \\Theta$\n",
      "- Compute metrics"
     ]
    },
    {
     "cell_type": "heading",
     "level": 2,
     "metadata": {},
     "source": [
      "Imports"
     ]
    },
    {
     "cell_type": "code",
     "collapsed": false,
     "input": [
      "%pylab inline\n",
      "\n",
      "import os\n",
      "import sys\n",
      "import subprocess\n",
      "import tempfile\n",
      "\n",
      "import numpy as np\n",
      "import scipy.sparse as sp"
     ],
     "language": "python",
     "metadata": {},
     "outputs": [
      {
       "output_type": "stream",
       "stream": "stdout",
       "text": [
        "Populating the interactive namespace from numpy and matplotlib\n"
       ]
      }
     ],
     "prompt_number": 1
    },
    {
     "cell_type": "heading",
     "level": 2,
     "metadata": {},
     "source": [
      "A class for working with Bag-of-Words datasets"
     ]
    },
    {
     "cell_type": "code",
     "collapsed": true,
     "input": [
      "class BowDataset(object):\n",
      "    def __init__(self, name):\n",
      "        self.words, self.word_index = BowDataset.load_words('vocab.%s.txt' % name)\n",
      "        self.F = BowDataset.load_frequences('docword.%s.txt' % name)\n",
      "        self.D = self.F.shape[0]\n",
      "        self.W = self.F.shape[1]\n",
      "        assert len(self.words) == self.W\n",
      "        \n",
      "    @staticmethod\n",
      "    def load_words(filename):\n",
      "        words = []\n",
      "        word_index = {}\n",
      "        with open(filename) as f:\n",
      "            for i, line in enumerate(f):\n",
      "                word = line.strip()\n",
      "                words.append(word)\n",
      "                word_index[word] = i\n",
      "        return np.array(words, dtype=str), word_index\n",
      "    \n",
      "    @staticmethod\n",
      "    def load_frequences(filename):\n",
      "        with open(filename) as f:\n",
      "            D = int(f.readline().strip())\n",
      "            W = int(f.readline().strip())\n",
      "            nnz = int(f.readline().strip())\n",
      "            I, J, F = np.empty(nnz, dtype=int), np.empty(nnz, dtype=int), np.empty(nnz, dtype=int)\n",
      "            for i, line in enumerate(f):\n",
      "                parts = line.strip().split(' ')\n",
      "                docID = int(parts[0])\n",
      "                wordID = int(parts[1])\n",
      "                count = int(parts[2])\n",
      "                I[i] = docID - 1\n",
      "                J[i] = wordID - 1\n",
      "                F[i] = count\n",
      "        return sp.coo_matrix((F, (I, J)), shape=(D, W))\n",
      "                \n",
      "    def to_vw_dataset(self, filename):\n",
      "        F = self.F.tocsr()\n",
      "        with open(filename, 'w') as fout:\n",
      "            for d in xrange(self.D):\n",
      "                words = F.indices[F.indptr[d]:F.indptr[d+1]]\n",
      "                counts = F.data[F.indptr[d]:F.indptr[d+1]]\n",
      "                fout.write(' \\'%d | ' % d)\n",
      "                for w, c in zip(words, counts):\n",
      "                    fout.write('%d' % w)\n",
      "                    if c > 1:\n",
      "                        fout.write(':%d' % c)\n",
      "                    fout.write(' ')\n",
      "                fout.write('\\n')\n",
      "                \n",
      "    def read_vw_result(self, filename, topics=False):\n",
      "        with open(filename) as f:\n",
      "            if topics:\n",
      "                for i in xrange(11): f.readline()\n",
      "            result_matrix = []\n",
      "            for line in f:\n",
      "                parts = line.strip().replace('  ', ' ').split(' ')\n",
      "                if topics:\n",
      "                    index = int(parts[0])\n",
      "                    matrix_line = map(float, parts[1:])\n",
      "                    if index < self.W:\n",
      "                        result_matrix.append(matrix_line)\n",
      "                else:\n",
      "                    index = int(parts[-1])\n",
      "                    matrix_line = map(float, parts[:-1])\n",
      "                    result_matrix.append(matrix_line)\n",
      "\n",
      "        return np.array(result_matrix, dtype=float)\n",
      "    \n",
      "    def perplexity(self, Theta, Phi):\n",
      "        F = self.F\n",
      "        phat = (Theta[F.row, :] * Phi.T[F.col, :]).sum(axis=1)\n",
      "        L = (F.data * np.log(phat)).sum() / F.data.sum()\n",
      "        return np.exp(-L)\n",
      "        "
     ],
     "language": "python",
     "metadata": {},
     "outputs": [],
     "prompt_number": 2
    },
    {
     "cell_type": "heading",
     "level": 2,
     "metadata": {},
     "source": [
      "Phi and Theta"
     ]
    },
    {
     "cell_type": "markdown",
     "metadata": {},
     "source": [
      "LDA returns a posterior distribution over the $\\Phi$ and $\\Theta$ matrices. To apply quality metric for the topic model we need to infer exact values of $\\Phi$ and $\\Theta$ and there are several ways to get stochastic matrices from Dirichlet distributions:\n",
      "\n",
      "1. Expected distributions: $\\phi_t = \\mathbb{E}_{p(\\phi_t|\\alpha_t)}\\phi_t \\quad \\Rightarrow \\phi_{tw} \\propto \\alpha_{tw}$\n",
      "2. Most probable distributions: $\\phi_t = \\arg\\max_{\\phi_t} p(\\phi_t|\\alpha_t) \\quad \\Rightarrow \\phi_{tw} \\propto (\\alpha_{tw}-1)_+$\n",
      "3. Pick random distributions from Dirichlet: $\\phi_t \\sim p(\\phi_t|\\alpha_t)$"
     ]
    },
    {
     "cell_type": "markdown",
     "metadata": {},
     "source": [
      "The next function transforms the matrix of Dirichlet parameters to the row stochastic matrix:\n",
      "$$A = (\\alpha_{tw}) \\quad \\rightarrow \\quad \\Phi = (\\phi_{tw}), \\quad \\phi_{tw} \\propto (\\alpha_{tw} - a)$$"
     ]
    },
    {
     "cell_type": "code",
     "collapsed": true,
     "input": [
      "def infer_factorization(alphas, a=0, tol=1e-10):\n",
      "    \"\"\"\n",
      "    Infer stochastic matrix from Dirichlet distributions. \n",
      "    \n",
      "    Input: matrix with rows corresponding to parameters of \n",
      "    the asymmetric Dirichlet distributions, parameter a.\n",
      "    \n",
      "    a=0 => expected distributions\n",
      "    a=1 => most probable distributions\n",
      "    a=1/2 => normalized median-marginal distributions\n",
      "    \n",
      "    Returns: inferred stochastic matrix.\n",
      "    \"\"\"\n",
      "    alpha0 = alphas.sum(axis=1, keepdims=True)\n",
      "    A = alphas - a\n",
      "    A[A < tol] = 0\n",
      "    A = A / (A.sum(axis=1, keepdims=True) + 1e-15)\n",
      "    return A"
     ],
     "language": "python",
     "metadata": {},
     "outputs": [],
     "prompt_number": 3
    },
    {
     "cell_type": "heading",
     "level": 2,
     "metadata": {},
     "source": [
      "VW LDA Runner"
     ]
    },
    {
     "cell_type": "code",
     "collapsed": true,
     "input": [
      "def vw_lda(bow, cache_file, n_topics=10, n_passes=1):\n",
      "    tmp_dir = tempfile.mkdtemp()\n",
      "    \n",
      "    dataset_path = None\n",
      "    if not os.path.exists(cache_file):\n",
      "        dataset_path = os.path.join(tmp_dir, 'dataset.vw')\n",
      "        bow.to_vw_dataset(dataset_path)\n",
      "        \n",
      "    topics_path = os.path.join(tmp_dir, 'topics')\n",
      "    predictions_path = os.path.join(tmp_dir, 'predictions')\n",
      "    \n",
      "    n_bits = int(math.ceil(math.log(bow.W, 2)))\n",
      "    cmd = [\n",
      "        'vw',\n",
      "        '-b', str(n_bits),\n",
      "        '--lda', str(n_topics),\n",
      "        '--lda_D', str(bow.D),\n",
      "        '--readable_model', topics_path,\n",
      "        '--predictions', predictions_path,\n",
      "        '--cache_file', cache_file,\n",
      "        '--passes', str(n_passes),\n",
      "\n",
      "    ]\n",
      "    if dataset_path is not None:\n",
      "        cmd += [dataset_path]\n",
      "        \n",
      "    #print ' '.join(cmd)\n",
      "    proc = subprocess.Popen(cmd)\n",
      "    if proc.wait() != 0:\n",
      "        raise RuntimeError('vw died with non-zero code')\n",
      " \n",
      "    gammas = bow.read_vw_result(predictions_path, topics=False)\n",
      "    lambdas = bow.read_vw_result(topics_path, topics=True).T\n",
      "    return gammas, lambdas"
     ],
     "language": "python",
     "metadata": {},
     "outputs": [],
     "prompt_number": 4
    },
    {
     "cell_type": "heading",
     "level": 2,
     "metadata": {},
     "source": [
      "An Experiment"
     ]
    },
    {
     "cell_type": "code",
     "collapsed": false,
     "input": [
      "%%time\n",
      "nips = BowDataset('nips')"
     ],
     "language": "python",
     "metadata": {},
     "outputs": [
      {
       "output_type": "stream",
       "stream": "stdout",
       "text": [
        "CPU times: user 1.97 s, sys: 19.3 ms, total: 1.99 s\n",
        "Wall time: 1.98 s\n"
       ]
      }
     ],
     "prompt_number": 5
    },
    {
     "cell_type": "code",
     "collapsed": false,
     "input": [
      "ns, ps = [], []\n",
      "for n in [1, 10, 20, 30, 40, 50]:\n",
      "    ns.append(n)\n",
      "    \n",
      "    print 'Running %d passes' % n\n",
      "    g, l = vw_lda(nips, 'nips_cache', n_passes=n)\n",
      "\n",
      "    Theta = infer_factorization(g, a=0)\n",
      "    Phi = infer_factorization(l, a=0)\n",
      "    ps.append(nips.perplexity(Theta, Phi))"
     ],
     "language": "python",
     "metadata": {},
     "outputs": [
      {
       "output_type": "stream",
       "stream": "stdout",
       "text": [
        "Running 1 passes\n",
        "Running 10 passes\n",
        "Running 20 passes\n",
        "Running 30 passes\n",
        "Running 40 passes\n",
        "Running 50 passes\n"
       ]
      }
     ],
     "prompt_number": 6
    },
    {
     "cell_type": "code",
     "collapsed": false,
     "input": [
      "plot(ns, ps, 'x-')\n",
      "grid(True)\n",
      "title('VW LDA Perplexity on nips dataset')\n",
      "xlabel('perplexity')\n",
      "ylabel('iteration')"
     ],
     "language": "python",
     "metadata": {},
     "outputs": [
      {
       "metadata": {},
       "output_type": "pyout",
       "prompt_number": 7,
       "text": [
        "<matplotlib.text.Text at 0x1116da4d0>"
       ]
      },
      {
       "metadata": {},
       "output_type": "display_data",
       "png": "[encoded data removed]",
       "text": [
        "<matplotlib.figure.Figure at 0x110f62190>"
       ]
      }
     ],
     "prompt_number": 7
    },
    {
     "cell_type": "heading",
     "level": 2,
     "metadata": {},
     "source": [
      "Sparsity of Phi and Theta"
     ]
    },
    {
     "cell_type": "code",
     "collapsed": false,
     "input": [
      "def sparsity(A):\n",
      "    return float(np.prod(A.shape) - np.count_nonzero(A)) / np.prod(A.shape)"
     ],
     "language": "python",
     "metadata": {},
     "outputs": [],
     "prompt_number": 15
    },
    {
     "cell_type": "heading",
     "level": 5,
     "metadata": {},
     "source": [
      "MAP-inferred matrices are really sparse"
     ]
    },
    {
     "cell_type": "code",
     "collapsed": false,
     "input": [
      "Theta = infer_factorization(g, a=1)\n",
      "Phi = infer_factorization(l, a=1)\n",
      "\n",
      "print 'Sparsity'\n",
      "print '  Theta: %.2f%%' % (100 * sparsity(Theta))\n",
      "print '  Phi:   %.2f%%' % (100 * sparsity(Phi))"
     ],
     "language": "python",
     "metadata": {},
     "outputs": [
      {
       "output_type": "stream",
       "stream": "stdout",
       "text": [
        "Sparsity\n",
        "  Theta: 2.18%\n",
        "  Phi:   86.58%\n"
       ]
      }
     ],
     "prompt_number": 16
    },
    {
     "cell_type": "heading",
     "level": 5,
     "metadata": {},
     "source": [
      "Expected matrices have zero sparsity"
     ]
    },
    {
     "cell_type": "code",
     "collapsed": false,
     "input": [
      "Theta = infer_factorization(g, a=0)\n",
      "Phi = infer_factorization(l, a=0)\n",
      "\n",
      "print 'Sparsity'\n",
      "print '  Theta: %.2f%%' % (100 * sparsity(Theta))\n",
      "print '  Phi:   %.2f%%' % (100 * sparsity(Phi))"
     ],
     "language": "python",
     "metadata": {},
     "outputs": [
      {
       "output_type": "stream",
       "stream": "stdout",
       "text": [
        "Sparsity\n",
        "  Theta: 0.00%\n",
        "  Phi:   0.00%\n"
       ]
      }
     ],
     "prompt_number": 18
    }
   ],
   "metadata": {}
  }
 ]
}