{
 "metadata": {
  "language_info": {
   "codemirror_mode": {
    "name": "ipython",
    "version": 2
   },
   "mimetype": "text/x-python",
   "name": "python",
   "pygments_lexer": "ipython2"
  },
  "name": "",
  "signature": "sha256:15c63feb83066e8a7af40dbb40890cec638edd04b29bb023c40452d4eb23088c"
 },
 "nbformat": 3,
 "nbformat_minor": 0,
 "worksheets": [
  {
   "cells": [
    {
     "cell_type": "heading",
     "level": 1,
     "metadata": {},
     "source": [
      "Topic Modeling"
     ]
    },
    {
     "cell_type": "code",
     "collapsed": true,
     "input": [
      "import numpy as np"
     ],
     "language": "python",
     "metadata": {},
     "outputs": [],
     "prompt_number": 1
    },
    {
     "cell_type": "heading",
     "level": 2,
     "metadata": {},
     "source": [
      "Reading the Data"
     ]
    },
    {
     "cell_type": "code",
     "collapsed": true,
     "input": [
      "class BowDataset(object):\n",
      "    def __init__(self, D, W, words, doc_ids, word_ids, counts):\n",
      "        self.D = D\n",
      "        self.W = W\n",
      "        self.words = words\n",
      "        self.doc_ids = doc_ids\n",
      "        self.word_ids = word_ids\n",
      "        self.counts = counts\n",
      "        self.nnz = len(counts)\n",
      "        assert len(doc_ids) == self.nnz\n",
      "        assert len(word_ids) == self.nnz\n",
      "    \n",
      "    @staticmethod\n",
      "    def load():\n",
      "        with open('data/bow/docword.nips.txt') as docword_f:\n",
      "            D = int(docword_f.readline().strip())\n",
      "            W = int(docword_f.readline().strip())\n",
      "            nnz = int(docword_f.readline().strip())\n",
      "            doc_ids = np.empty(nnz, dtype=int)\n",
      "            word_ids = np.empty(nnz, dtype=int)\n",
      "            counts = np.empty(nnz, dtype=int)\n",
      "            for i in xrange(nnz):\n",
      "                parts = docword_f.readline().strip().split(' ')\n",
      "                doc_ids[i] = int(parts[0]) - 1\n",
      "                word_ids[i] = int(parts[1]) - 1\n",
      "                counts[i] = int(parts[2])\n",
      "                \n",
      "        with open('data/bow/vocab.nips.txt') as vocab_f:\n",
      "            words = [line.strip() for line in vocab_f]\n",
      "            words = np.array(words, dtype=np.string0)\n",
      "            assert len(words) == W\n",
      "        \n",
      "        return BowDataset(D, W, words, doc_ids, word_ids, counts)"
     ],
     "language": "python",
     "metadata": {},
     "outputs": [],
     "prompt_number": 33
    },
    {
     "cell_type": "code",
     "collapsed": true,
     "input": [
      "nips = BowDataset.load()"
     ],
     "language": "python",
     "metadata": {},
     "outputs": [],
     "prompt_number": 34
    },
    {
     "cell_type": "heading",
     "level": 2,
     "metadata": {},
     "source": [
      "PLSA"
     ]
    },
    {
     "cell_type": "code",
     "collapsed": true,
     "input": [
      "def plsa(data, T, init_Phi=None, init_Theta=None, max_iters=5):\n",
      "    D, W = data.D, data.W\n",
      "    if init_Phi is None:\n",
      "        init_Phi = np.random.uniform(size=(W, T))\n",
      "        init_Phi = init_Phi / init_Phi.sum(axis=1).reshape((W, 1))\n",
      "    if init_Theta is None:\n",
      "        init_Theta = np.random.uniform(size=(T, D))\n",
      "        init_Theta = init_Theta / init_Theta.sum(axis=0).reshape((1, D))\n",
      "        \n",
      "    Phi = init_Phi\n",
      "    Theta = init_Theta\n",
      "        \n",
      "    for iter in xrange(max_iters):\n",
      "        print iter\n",
      "        \n",
      "        Nwt = np.zeros((W, T))\n",
      "        Ndt = np.zeros((D, T))\n",
      "        Nt = np.zeros(T)\n",
      "\n",
      "        for i in xrange(data.nnz):\n",
      "            w, d, ndw = data.word_ids[i], data.doc_ids[i], data.counts[i]\n",
      "            Z = np.dot(Phi[w, :], Theta[:, d])\n",
      "            delta = ndw * Phi[w, :] * Theta[:, d].T / Z\n",
      "            Nwt[w, :] += delta\n",
      "            Ndt[d, :] += delta\n",
      "            Nt += delta\n",
      "            \n",
      "        Phi = Nwt / Nt.reshape((1, T))\n",
      "        Theta = Ndt.T / Ndt.T.sum(axis=0)\n",
      "        \n",
      "    return Phi, Theta\n",
      "    "
     ],
     "language": "python",
     "metadata": {},
     "outputs": [],
     "prompt_number": 57
    },
    {
     "cell_type": "code",
     "collapsed": false,
     "input": [
      "Phi, Theta = plsa(nips, 5)"
     ],
     "language": "python",
     "metadata": {},
     "outputs": [
      {
       "output_type": "stream",
       "stream": "stdout",
       "text": [
        "0\n",
        "1\n",
        "2\n",
        "3\n",
        "4\n"
       ]
      }
     ],
     "prompt_number": 58
    },
    {
     "cell_type": "code",
     "collapsed": false,
     "input": [
      "Theta.sum(axis=0)"
     ],
     "language": "python",
     "metadata": {},
     "outputs": [
      {
       "metadata": {},
       "output_type": "pyout",
       "prompt_number": 62,
       "text": [
        "array([ 1.,  1.,  1., ...,  1.,  1.,  1.])"
       ]
      }
     ],
     "prompt_number": 62
    },
    {
     "cell_type": "code",
     "collapsed": false,
     "input": [
      "%pylab inline"
     ],
     "language": "python",
     "metadata": {},
     "outputs": [
      {
       "output_type": "stream",
       "stream": "stdout",
       "text": [
        "Populating the interactive namespace from numpy and matplotlib\n"
       ]
      }
     ],
     "prompt_number": 48
    },
    {
     "cell_type": "code",
     "collapsed": false,
     "input": [
      "imshow(Phi[:10, :], interpolation='nearest')"
     ],
     "language": "python",
     "metadata": {},
     "outputs": [
      {
       "metadata": {},
       "output_type": "pyout",
       "prompt_number": 53,
       "text": [
        "<matplotlib.image.AxesImage at 0x10af18fd0>"
       ]
      },
      {
       "metadata": {},
       "output_type": "display_data",
       "png": "[encoded data removed]",
       "text": [
        "<matplotlib.figure.Figure at 0x10ada3950>"
       ]
      }
     ],
     "prompt_number": 53
    },
    {
     "cell_type": "code",
     "collapsed": false,
     "input": [
      "Phi.sum(axis=1)"
     ],
     "language": "python",
     "metadata": {},
     "outputs": [
      {
       "metadata": {},
       "output_type": "pyout",
       "prompt_number": 54,
       "text": [
        "array([  2.07061779e-05,   5.17352013e-05,   1.73387217e-04, ...,\n",
        "         2.58667427e-05,   3.87971580e-05,   3.87957015e-05])"
       ]
      }
     ],
     "prompt_number": 54
    },
    {
     "cell_type": "code",
     "collapsed": false,
     "input": [
      "np.random.uniform(size=(5, 5))"
     ],
     "language": "python",
     "metadata": {},
     "outputs": [
      {
       "metadata": {},
       "output_type": "pyout",
       "prompt_number": 21,
       "text": [
        "array([[ 0.18645167,  0.4733376 ,  0.17272416,  0.43677193,  0.88252332],\n",
        "       [ 0.49346424,  0.81570711,  0.76523259,  0.80306957,  0.32026123],\n",
        "       [ 0.99241009,  0.29806689,  0.61158906,  0.55459615,  0.10040823],\n",
        "       [ 0.9236027 ,  0.36432271,  0.3275029 ,  0.02344603,  0.25857846],\n",
        "       [ 0.90568381,  0.51763118,  0.02362687,  0.66516146,  0.01540507]])"
       ]
      }
     ],
     "prompt_number": 21
    },
    {
     "cell_type": "code",
     "collapsed": true,
     "input": [],
     "language": "python",
     "metadata": {},
     "outputs": []
    }
   ],
   "metadata": {}
  }
 ]
}