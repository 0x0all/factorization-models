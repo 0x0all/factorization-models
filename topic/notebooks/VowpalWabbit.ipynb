{
 "metadata": {
  "name": "",
  "signature": "sha256:7de025d2764e7877370b549d3770767fc8271ee6aa40d028461a6e90359543da"
 },
 "nbformat": 3,
 "nbformat_minor": 0,
 "worksheets": [
  {
   "cells": [
    {
     "cell_type": "code",
     "collapsed": false,
     "input": [
      "%pylab inline\n",
      "\n",
      "import os\n",
      "import sys\n",
      "import subprocess\n",
      "import tempfile\n",
      "import itertools\n",
      "import operator\n",
      "\n",
      "import numpy as np\n",
      "import scipy.sparse as sp"
     ],
     "language": "python",
     "metadata": {},
     "outputs": [
      {
       "output_type": "stream",
       "stream": "stdout",
       "text": [
        "Populating the interactive namespace from numpy and matplotlib\n"
       ]
      }
     ],
     "prompt_number": 6
    },
    {
     "cell_type": "code",
     "collapsed": false,
     "input": [
      "!head ./wiki_corpus/enwiki-20141208-pages-articles_bow.mm"
     ],
     "language": "python",
     "metadata": {},
     "outputs": [
      {
       "output_type": "stream",
       "stream": "stdout",
       "text": [
        "%%MatrixMarket matrix coordinate real general\r\n",
        "3718495 100000 576588282                          \r\n",
        "1 12 1\r\n",
        "1 57 1\r\n",
        "1 81 1\r\n",
        "1 214 1\r\n",
        "1 304 1\r\n",
        "1 328 1\r\n",
        "1 340 2\r\n",
        "1 441 2\r\n"
       ]
      }
     ],
     "prompt_number": 3
    },
    {
     "cell_type": "code",
     "collapsed": false,
     "input": [
      "def conver_mm_to_vw(mm_file, vw_file):\n",
      "    with open(mm_file) as fin, open(vw_file, 'w') as fout:\n",
      "        fin.readline()\n",
      "        D, W, N = map(int, fin.readline().strip().split(' '))\n",
      "        \n",
      "        def parse_line(line):\n",
      "            parts = line.rstrip().split(' ')\n",
      "            return map(int, parts)\n",
      "        \n",
      "        for docId, group in itertools.groupby(itertools.imap(parse_line, fin), key=operator.itemgetter(0)):\n",
      "            fout.write(\" '%d | \" % docId)\n",
      "            for _, wordId, count in group:\n",
      "                fout.write('%d:%d ' % (wordId, count))\n",
      "            fout.write('\\n')"
     ],
     "language": "python",
     "metadata": {},
     "outputs": [],
     "prompt_number": 12
    },
    {
     "cell_type": "code",
     "collapsed": false,
     "input": [
      "conver_mm_to_vw('./wiki_corpus/enwiki-20141208-pages-articles_bow.mm', './wiki_corpus/enwiki-20141208-pages-articles_bow.vw')"
     ],
     "language": "python",
     "metadata": {},
     "outputs": []
    },
    {
     "cell_type": "code",
     "collapsed": false,
     "input": [
      "!vw -b 17 -"
     ],
     "language": "python",
     "metadata": {},
     "outputs": []
    }
   ],
   "metadata": {}
  }
 ]
}