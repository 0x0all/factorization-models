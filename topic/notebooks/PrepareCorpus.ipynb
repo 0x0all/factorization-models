{
 "metadata": {
  "name": "",
  "signature": "sha256:be08ed7fc917179b02fafe8309e6009cbfff4ea5f0d90057c53e280dd0c75cc1"
 },
 "nbformat": 3,
 "nbformat_minor": 0,
 "worksheets": [
  {
   "cells": [
    {
     "cell_type": "code",
     "collapsed": false,
     "input": [
      "import gensim\n",
      "import bz2\n",
      "import numpy as np\n",
      "import scipy as sp\n",
      "import datetime\n",
      "import logging"
     ],
     "language": "python",
     "metadata": {},
     "outputs": [],
     "prompt_number": 4
    },
    {
     "cell_type": "heading",
     "level": 1,
     "metadata": {},
     "source": [
      "Load Original Corpus"
     ]
    },
    {
     "cell_type": "code",
     "collapsed": false,
     "input": [
      "logging.basicConfig(format='%(asctime)s : %(levelname)s : %(message)s', level=logging.DEBUG)\n",
      "id2word = gensim.corpora.Dictionary.load_from_text('wiki_corpus/enwiki-20141208-pages-articles_wordids.txt.bz2')\n",
      "mm = gensim.corpora.MmCorpus('wiki_corpus/enwiki-20141208-pages-articles_bow.mm')"
     ],
     "language": "python",
     "metadata": {},
     "outputs": [],
     "prompt_number": 5
    },
    {
     "cell_type": "code",
     "collapsed": false,
     "input": [
      "%%time\n",
      "start_time = datetime.datetime.now()\n",
      "corpus_csc = gensim.matutils.corpus2csc(\n",
      "    corpus=mm, \n",
      "    num_terms=mm.num_terms,\n",
      "    num_docs=mm.num_docs,\n",
      "    num_nnz=mm.num_nnz,\n",
      "    printprogress=1,\n",
      ")\n",
      "elapsed_time = datetime.datetime.now() - start_time"
     ],
     "language": "python",
     "metadata": {},
     "outputs": []
    },
    {
     "cell_type": "code",
     "collapsed": false,
     "input": [
      "print elapsed_time"
     ],
     "language": "python",
     "metadata": {},
     "outputs": [
      {
       "output_type": "stream",
       "stream": "stdout",
       "text": [
        "0:51:29.677909\n"
       ]
      }
     ],
     "prompt_number": 10
    },
    {
     "cell_type": "code",
     "collapsed": false,
     "input": [
      "print mm"
     ],
     "language": "python",
     "metadata": {},
     "outputs": [
      {
       "output_type": "stream",
       "stream": "stdout",
       "text": [
        "MmCorpus(3718495 documents, 100000 features, 576588282 non-zero entries)\n"
       ]
      }
     ],
     "prompt_number": 13
    },
    {
     "cell_type": "code",
     "collapsed": false,
     "input": [
      "corpus_csc"
     ],
     "language": "python",
     "metadata": {},
     "outputs": [
      {
       "metadata": {},
       "output_type": "pyout",
       "prompt_number": 17,
       "text": [
        "<100000x3718495 sparse matrix of type '<type 'numpy.float64'>'\n",
        "\twith 576588282 stored elements in Compressed Sparse Column format>"
       ]
      }
     ],
     "prompt_number": 17
    },
    {
     "cell_type": "heading",
     "level": 1,
     "metadata": {},
     "source": [
      "Shuffle and Split"
     ]
    },
    {
     "cell_type": "code",
     "collapsed": false,
     "input": [
      "np.random.seed(123)\n",
      "doc_indices = np.random.permutation(mm.num_docs)\n",
      "\n",
      "n_valid = 100000\n",
      "n_test = 100000\n",
      "n_toy = 1000\n",
      "\n",
      "doc_valid = doc_indices[:n_valid]\n",
      "doc_test = doc_indices[n_valid:(n_valid+n_test)]\n",
      "doc_train = doc_indices[(n_valid+n_test):]\n",
      "\n",
      "doc_toy1 = doc_indices[:n_toy]\n",
      "doc_toy2 = doc_indices[n_toy:2*n_toy]"
     ],
     "language": "python",
     "metadata": {},
     "outputs": []
    },
    {
     "cell_type": "heading",
     "level": 1,
     "metadata": {},
     "source": [
      "Write corpuses"
     ]
    },
    {
     "cell_type": "heading",
     "level": 2,
     "metadata": {},
     "source": [
      "MatrixMarket"
     ]
    },
    {
     "cell_type": "code",
     "collapsed": false,
     "input": [
      "def write_corpus_mm(filename, corpus_csc, doc_indices, float_val=False):\n",
      "    \"\"\"\n",
      "    Create MatrixMarket format with corpus\n",
      "    \n",
      "    Numeration:\n",
      "        docs: one-based\n",
      "        terma: one-based\n",
      "    \"\"\"\n",
      "    nnz = 0\n",
      "    for d in doc_indices:\n",
      "        nnz += corpus_csc.indptr[d+1] - corpus_csc.indptr[d]\n",
      "    print 'Estimated nnz:', nnz\n",
      "    \n",
      "    print 'Writing mm file:', filename\n",
      "    with open(filename, 'w') as fout:\n",
      "        fout.write('%%MatrixMarket matrix coordinate real general\\n')\n",
      "        fout.write('%d %d %d\\n' % (len(doc_indices), corpus_csc.shape[0], nnz))\n",
      "        for i, d in enumerate(doc_indices):\n",
      "            terms = corpus_csc.indices[corpus_csc.indptr[d]:corpus_csc.indptr[d+1]]\n",
      "            values = corpus_csc.data[corpus_csc.indptr[d]:corpus_csc.indptr[d+1]]\n",
      "            for term, value in zip(terms, values):\n",
      "                if not float_val:\n",
      "                    fout.write('%d %d %d\\n' % (i+1, term+1, value))\n",
      "                else:\n",
      "                    fout.write('%d %d %f\\n' % (i+1, term+1, value))\n",
      "            if i % 10000 == 0:\n",
      "                print 'Writed %d docs' % i\n",
      "            "
     ],
     "language": "python",
     "metadata": {},
     "outputs": [],
     "prompt_number": 60
    },
    {
     "cell_type": "heading",
     "level": 2,
     "metadata": {},
     "source": [
      "Vowpal Wabbit"
     ]
    },
    {
     "cell_type": "code",
     "collapsed": false,
     "input": [
      "def write_corpus_vw(filename, corpus_csc, doc_indices, float_val=False):\n",
      "    \"\"\"\n",
      "    Create Vowpal Wabbit file with corpus\n",
      "    \n",
      "    Numeration:\n",
      "        docs: zero-based\n",
      "        terms: zero-based\n",
      "    \"\"\"\n",
      "    print 'Writing vw file:', filename\n",
      "    with open(filename, 'w') as fout:\n",
      "        for i, d in enumerate(doc_indices):\n",
      "            terms = corpus_csc.indices[corpus_csc.indptr[d]:corpus_csc.indptr[d+1]]\n",
      "            values = corpus_csc.data[corpus_csc.indptr[d]:corpus_csc.indptr[d+1]]\n",
      "            \n",
      "            fout.write(' \\'%d |' % i)            \n",
      "            for term, value in zip(terms, values):\n",
      "                if not float_val:\n",
      "                    if value == 1:\n",
      "                        fout.write(' %d' % term)\n",
      "                    else:\n",
      "                        fout.write(' %d:%d' % (term, value))\n",
      "                else:\n",
      "                    fout.write(' %d:%f\\n' % (term, value))\n",
      "            fout.write('\\n')\n",
      "                    \n",
      "            if i % 10000 == 0:\n",
      "                print 'Writed %d docs' % i\n",
      "            "
     ],
     "language": "python",
     "metadata": {},
     "outputs": [],
     "prompt_number": 61
    },
    {
     "cell_type": "heading",
     "level": 2,
     "metadata": {},
     "source": [
      "Write 'em all"
     ]
    },
    {
     "cell_type": "code",
     "collapsed": false,
     "input": [
      "write_corpus_mm('wiki_corpus/wiki_bow_valid.mm', corpus_csc, doc_valid)\n",
      "write_corpus_mm('wiki_corpus/wiki_bow_test.mm', corpus_csc, doc_test)\n",
      "write_corpus_mm('wiki_corpus/wiki_bow_train.mm', corpus_csc, doc_train)\n",
      "\n",
      "write_corpus_vw('wiki_corpus/wiki_bow_valid.vw', corpus_csc, doc_valid)\n",
      "write_corpus_vw('wiki_corpus/wiki_bow_test.vw', corpus_csc, doc_test)\n",
      "write_corpus_vw('wiki_corpus/wiki_bow_train.vw', corpus_csc, doc_train)"
     ],
     "language": "python",
     "metadata": {},
     "outputs": [
      {
       "output_type": "stream",
       "stream": "stdout",
       "text": [
        "Estimated nnz: 15574577\n",
        "Writing mm file: wiki_corpus/wiki_bow_valid.mm\n",
        "Writed 0 docs\n",
        "Writed 10000 docs"
       ]
      },
      {
       "output_type": "stream",
       "stream": "stdout",
       "text": [
        "\n",
        "Writed 20000 docs"
       ]
      },
      {
       "output_type": "stream",
       "stream": "stdout",
       "text": [
        "\n",
        "Writed 30000 docs"
       ]
      },
      {
       "output_type": "stream",
       "stream": "stdout",
       "text": [
        "\n",
        "Writed 40000 docs"
       ]
      },
      {
       "output_type": "stream",
       "stream": "stdout",
       "text": [
        "\n",
        "Writed 50000 docs"
       ]
      },
      {
       "output_type": "stream",
       "stream": "stdout",
       "text": [
        "\n",
        "Writed 60000 docs"
       ]
      },
      {
       "output_type": "stream",
       "stream": "stdout",
       "text": [
        "\n",
        "Writed 70000 docs"
       ]
      },
      {
       "output_type": "stream",
       "stream": "stdout",
       "text": [
        "\n",
        "Writed 80000 docs"
       ]
      },
      {
       "output_type": "stream",
       "stream": "stdout",
       "text": [
        "\n",
        "Writed 90000 docs"
       ]
      },
      {
       "output_type": "stream",
       "stream": "stdout",
       "text": [
        "\n",
        "Estimated nnz:"
       ]
      },
      {
       "output_type": "stream",
       "stream": "stdout",
       "text": [
        " 15405528\n",
        "Writing mm file: wiki_corpus/wiki_bow_test.mm\n",
        "Writed 0 docs\n",
        "Writed 10000 docs"
       ]
      },
      {
       "output_type": "stream",
       "stream": "stdout",
       "text": [
        "\n",
        "Writed 20000 docs"
       ]
      },
      {
       "output_type": "stream",
       "stream": "stdout",
       "text": [
        "\n",
        "Writed 30000 docs"
       ]
      },
      {
       "output_type": "stream",
       "stream": "stdout",
       "text": [
        "\n",
        "Writed 40000 docs"
       ]
      },
      {
       "output_type": "stream",
       "stream": "stdout",
       "text": [
        "\n",
        "Writed 50000 docs"
       ]
      },
      {
       "output_type": "stream",
       "stream": "stdout",
       "text": [
        "\n",
        "Writed 60000 docs"
       ]
      },
      {
       "output_type": "stream",
       "stream": "stdout",
       "text": [
        "\n",
        "Writed 70000 docs"
       ]
      },
      {
       "output_type": "stream",
       "stream": "stdout",
       "text": [
        "\n",
        "Writed 80000 docs"
       ]
      },
      {
       "output_type": "stream",
       "stream": "stdout",
       "text": [
        "\n",
        "Writed 90000 docs"
       ]
      },
      {
       "output_type": "stream",
       "stream": "stdout",
       "text": [
        "\n",
        "Estimated nnz:"
       ]
      },
      {
       "output_type": "stream",
       "stream": "stdout",
       "text": [
        " 545608177\n",
        "Writing mm file: wiki_corpus/wiki_bow_train.mm\n",
        "Writed 0 docs\n",
        "Writed 10000 docs"
       ]
      },
      {
       "output_type": "stream",
       "stream": "stdout",
       "text": [
        "\n",
        "Writed 20000 docs"
       ]
      },
      {
       "output_type": "stream",
       "stream": "stdout",
       "text": [
        "\n",
        "Writed 30000 docs"
       ]
      },
      {
       "output_type": "stream",
       "stream": "stdout",
       "text": [
        "\n",
        "Writed 40000 docs"
       ]
      },
      {
       "output_type": "stream",
       "stream": "stdout",
       "text": [
        "\n",
        "Writed 50000 docs"
       ]
      },
      {
       "output_type": "stream",
       "stream": "stdout",
       "text": [
        "\n",
        "Writed 60000 docs"
       ]
      },
      {
       "output_type": "stream",
       "stream": "stdout",
       "text": [
        "\n",
        "Writed 70000 docs"
       ]
      },
      {
       "output_type": "stream",
       "stream": "stdout",
       "text": [
        "\n",
        "Writed 80000 docs"
       ]
      },
      {
       "output_type": "stream",
       "stream": "stdout",
       "text": [
        "\n",
        "Writed 90000 docs"
       ]
      },
      {
       "output_type": "stream",
       "stream": "stdout",
       "text": [
        "\n",
        "Writed 100000 docs"
       ]
      },
      {
       "output_type": "stream",
       "stream": "stdout",
       "text": [
        "\n",
        "Writed 110000 docs"
       ]
      },
      {
       "output_type": "stream",
       "stream": "stdout",
       "text": [
        "\n",
        "Writed 120000 docs"
       ]
      },
      {
       "output_type": "stream",
       "stream": "stdout",
       "text": [
        "\n",
        "Writed 130000 docs"
       ]
      },
      {
       "output_type": "stream",
       "stream": "stdout",
       "text": [
        "\n",
        "Writed 140000 docs"
       ]
      },
      {
       "output_type": "stream",
       "stream": "stdout",
       "text": [
        "\n",
        "Writed 150000 docs"
       ]
      },
      {
       "output_type": "stream",
       "stream": "stdout",
       "text": [
        "\n",
        "Writed 160000 docs"
       ]
      },
      {
       "output_type": "stream",
       "stream": "stdout",
       "text": [
        "\n",
        "Writed 170000 docs"
       ]
      },
      {
       "output_type": "stream",
       "stream": "stdout",
       "text": [
        "\n",
        "Writed 180000 docs"
       ]
      },
      {
       "output_type": "stream",
       "stream": "stdout",
       "text": [
        "\n",
        "Writed 190000 docs"
       ]
      },
      {
       "output_type": "stream",
       "stream": "stdout",
       "text": [
        "\n",
        "Writed 200000 docs"
       ]
      },
      {
       "output_type": "stream",
       "stream": "stdout",
       "text": [
        "\n",
        "Writed 210000 docs"
       ]
      },
      {
       "output_type": "stream",
       "stream": "stdout",
       "text": [
        "\n",
        "Writed 220000 docs"
       ]
      },
      {
       "output_type": "stream",
       "stream": "stdout",
       "text": [
        "\n",
        "Writed 230000 docs"
       ]
      },
      {
       "output_type": "stream",
       "stream": "stdout",
       "text": [
        "\n",
        "Writed 240000 docs"
       ]
      },
      {
       "output_type": "stream",
       "stream": "stdout",
       "text": [
        "\n",
        "Writed 250000 docs"
       ]
      },
      {
       "output_type": "stream",
       "stream": "stdout",
       "text": [
        "\n",
        "Writed 260000 docs"
       ]
      },
      {
       "output_type": "stream",
       "stream": "stdout",
       "text": [
        "\n",
        "Writed 270000 docs"
       ]
      },
      {
       "output_type": "stream",
       "stream": "stdout",
       "text": [
        "\n",
        "Writed 280000 docs"
       ]
      },
      {
       "output_type": "stream",
       "stream": "stdout",
       "text": [
        "\n",
        "Writed 290000 docs"
       ]
      },
      {
       "output_type": "stream",
       "stream": "stdout",
       "text": [
        "\n",
        "Writed 300000 docs"
       ]
      },
      {
       "output_type": "stream",
       "stream": "stdout",
       "text": [
        "\n",
        "Writed 310000 docs"
       ]
      },
      {
       "output_type": "stream",
       "stream": "stdout",
       "text": [
        "\n",
        "Writed 320000 docs"
       ]
      },
      {
       "output_type": "stream",
       "stream": "stdout",
       "text": [
        "\n",
        "Writed 330000 docs"
       ]
      },
      {
       "output_type": "stream",
       "stream": "stdout",
       "text": [
        "\n",
        "Writed 340000 docs"
       ]
      },
      {
       "output_type": "stream",
       "stream": "stdout",
       "text": [
        "\n",
        "Writed 350000 docs"
       ]
      },
      {
       "output_type": "stream",
       "stream": "stdout",
       "text": [
        "\n",
        "Writed 360000 docs"
       ]
      },
      {
       "output_type": "stream",
       "stream": "stdout",
       "text": [
        "\n",
        "Writed 370000 docs"
       ]
      },
      {
       "output_type": "stream",
       "stream": "stdout",
       "text": [
        "\n",
        "Writed 380000 docs"
       ]
      },
      {
       "output_type": "stream",
       "stream": "stdout",
       "text": [
        "\n",
        "Writed 390000 docs"
       ]
      },
      {
       "output_type": "stream",
       "stream": "stdout",
       "text": [
        "\n",
        "Writed 400000 docs"
       ]
      },
      {
       "output_type": "stream",
       "stream": "stdout",
       "text": [
        "\n",
        "Writed 410000 docs"
       ]
      },
      {
       "output_type": "stream",
       "stream": "stdout",
       "text": [
        "\n",
        "Writed 420000 docs"
       ]
      },
      {
       "output_type": "stream",
       "stream": "stdout",
       "text": [
        "\n",
        "Writed 430000 docs"
       ]
      },
      {
       "output_type": "stream",
       "stream": "stdout",
       "text": [
        "\n",
        "Writed 440000 docs"
       ]
      },
      {
       "output_type": "stream",
       "stream": "stdout",
       "text": [
        "\n",
        "Writed 450000 docs"
       ]
      },
      {
       "output_type": "stream",
       "stream": "stdout",
       "text": [
        "\n",
        "Writed 460000 docs"
       ]
      },
      {
       "output_type": "stream",
       "stream": "stdout",
       "text": [
        "\n",
        "Writed 470000 docs"
       ]
      },
      {
       "output_type": "stream",
       "stream": "stdout",
       "text": [
        "\n",
        "Writed 480000 docs"
       ]
      },
      {
       "output_type": "stream",
       "stream": "stdout",
       "text": [
        "\n",
        "Writed 490000 docs"
       ]
      },
      {
       "output_type": "stream",
       "stream": "stdout",
       "text": [
        "\n",
        "Writed 500000 docs"
       ]
      },
      {
       "output_type": "stream",
       "stream": "stdout",
       "text": [
        "\n",
        "Writed 510000 docs"
       ]
      },
      {
       "output_type": "stream",
       "stream": "stdout",
       "text": [
        "\n",
        "Writed 520000 docs"
       ]
      },
      {
       "output_type": "stream",
       "stream": "stdout",
       "text": [
        "\n",
        "Writed 530000 docs"
       ]
      },
      {
       "output_type": "stream",
       "stream": "stdout",
       "text": [
        "\n",
        "Writed 540000 docs"
       ]
      },
      {
       "output_type": "stream",
       "stream": "stdout",
       "text": [
        "\n",
        "Writed 550000 docs"
       ]
      },
      {
       "output_type": "stream",
       "stream": "stdout",
       "text": [
        "\n",
        "Writed 560000 docs"
       ]
      },
      {
       "output_type": "stream",
       "stream": "stdout",
       "text": [
        "\n",
        "Writed 570000 docs"
       ]
      },
      {
       "output_type": "stream",
       "stream": "stdout",
       "text": [
        "\n",
        "Writed 580000 docs"
       ]
      },
      {
       "output_type": "stream",
       "stream": "stdout",
       "text": [
        "\n",
        "Writed 590000 docs"
       ]
      },
      {
       "output_type": "stream",
       "stream": "stdout",
       "text": [
        "\n",
        "Writed 600000 docs"
       ]
      },
      {
       "output_type": "stream",
       "stream": "stdout",
       "text": [
        "\n",
        "Writed 610000 docs"
       ]
      },
      {
       "output_type": "stream",
       "stream": "stdout",
       "text": [
        "\n",
        "Writed 620000 docs"
       ]
      },
      {
       "output_type": "stream",
       "stream": "stdout",
       "text": [
        "\n",
        "Writed 630000 docs"
       ]
      },
      {
       "output_type": "stream",
       "stream": "stdout",
       "text": [
        "\n",
        "Writed 640000 docs"
       ]
      },
      {
       "output_type": "stream",
       "stream": "stdout",
       "text": [
        "\n",
        "Writed 650000 docs"
       ]
      },
      {
       "output_type": "stream",
       "stream": "stdout",
       "text": [
        "\n",
        "Writed 660000 docs"
       ]
      },
      {
       "output_type": "stream",
       "stream": "stdout",
       "text": [
        "\n",
        "Writed 670000 docs"
       ]
      }
     ]
    },
    {
     "cell_type": "code",
     "collapsed": false,
     "input": [
      "write_corpus_mm('wiki_corpus/wiki_bow_toy1.mm', corpus_csc, doc_toy1)\n",
      "write_corpus_mm('wiki_corpus/wiki_bow_toy2.mm', corpus_csc, doc_toy2)\n",
      "\n",
      "write_corpus_vw('wiki_corpus/wiki_bow_toy1.vw', corpus_csc, doc_toy1)\n",
      "write_corpus_vw('wiki_corpus/wiki_bow_toy2.vw', corpus_csc, doc_toy2)"
     ],
     "language": "python",
     "metadata": {},
     "outputs": []
    },
    {
     "cell_type": "code",
     "collapsed": false,
     "input": [
      "print '!'"
     ],
     "language": "python",
     "metadata": {},
     "outputs": [
      {
       "output_type": "stream",
       "stream": "stdout",
       "text": [
        "!\n"
       ]
      }
     ],
     "prompt_number": 66
    },
    {
     "cell_type": "code",
     "collapsed": false,
     "input": [],
     "language": "python",
     "metadata": {},
     "outputs": []
    }
   ],
   "metadata": {}
  }
 ]
}