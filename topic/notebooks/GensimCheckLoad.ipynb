{
 "metadata": {
  "name": "",
  "signature": "sha256:7d5a5221bccd77b60d567c63d88524a0874ce79b4d751bd084458c5f3e8b08e3"
 },
 "nbformat": 3,
 "nbformat_minor": 0,
 "worksheets": [
  {
   "cells": [
    {
     "cell_type": "code",
     "collapsed": false,
     "input": [
      "from gensim.models.ldamodel import LdaModel"
     ],
     "language": "python",
     "metadata": {},
     "outputs": [],
     "prompt_number": 1
    },
    {
     "cell_type": "code",
     "collapsed": false,
     "input": [
      "model = LdaModel.load('./gensim-lda.model')"
     ],
     "language": "python",
     "metadata": {},
     "outputs": [],
     "prompt_number": 2
    },
    {
     "cell_type": "code",
     "collapsed": false,
     "input": [
      "model.state.get_Elogbeta()"
     ],
     "language": "python",
     "metadata": {},
     "outputs": [
      {
       "metadata": {},
       "output_type": "pyout",
       "prompt_number": 4,
       "text": [
        "array([[-111.41323353, -111.41323353, -111.41323353, ..., -111.41323353,\n",
        "        -111.41323353, -111.41323353],\n",
        "       [-112.98000859, -112.98000859, -112.98000859, ..., -112.98000859,\n",
        "        -112.98000859, -112.98000859],\n",
        "       [-110.64844905, -110.64844905, -110.64844905, ..., -110.64844905,\n",
        "        -110.64844905, -110.64844905],\n",
        "       ..., \n",
        "       [-114.25374709, -114.25374709,  -10.85737132, ..., -114.25374709,\n",
        "        -114.25374709, -114.25374709],\n",
        "       [-111.12982256, -111.12982256, -111.12982256, ..., -111.12982256,\n",
        "        -111.12982256, -111.12982256],\n",
        "       [-112.7886335 , -112.7886335 , -112.7886335 , ..., -112.7886335 ,\n",
        "         -11.94561093, -112.7886335 ]])"
       ]
      }
     ],
     "prompt_number": 4
    },
    {
     "cell_type": "code",
     "collapsed": false,
     "input": [],
     "language": "python",
     "metadata": {},
     "outputs": []
    }
   ],
   "metadata": {}
  }
 ]
}