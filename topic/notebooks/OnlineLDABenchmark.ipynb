{
 "metadata": {
  "name": "",
  "signature": "sha256:9ccd09a8dbe2f411b272fdf1e243281bcf8fe6845c254219a147da9ef72a7ff3"
 },
 "nbformat": 3,
 "nbformat_minor": 0,
 "worksheets": [
  {
   "cells": [
    {
     "cell_type": "heading",
     "level": 1,
     "metadata": {},
     "source": [
      "TODO"
     ]
    },
    {
     "cell_type": "markdown",
     "metadata": {},
     "source": [
      "1. Function for running VW: (parameters) -> model.bin, topics, predictions, pickle with matrices, report with time\n",
      "2. Function for running Gensim: (parameters) -> model.serialized, pickle with matrices, report with time\n",
      "3. Function for running BigARTM: (parameters) -> pickle with matrices\n",
      "\n",
      "Pickle-with-matrices:\n",
      "  - topics (Phi)\n",
      "  - documents (Theta)\n",
      "    - test\n",
      "    - valid"
     ]
    },
    {
     "cell_type": "heading",
     "level": 1,
     "metadata": {},
     "source": [
      "Load corpus"
     ]
    },
    {
     "cell_type": "code",
     "collapsed": false,
     "input": [
      "!head -n 10 wiki_corpus/enwiki-20141208-pages-articles_bow.mm"
     ],
     "language": "python",
     "metadata": {},
     "outputs": [
      {
       "output_type": "stream",
       "stream": "stdout",
       "text": [
        "%%MatrixMarket matrix coordinate real general\r\n",
        "3718495 100000 576588282                          \r\n",
        "1 12 1\r\n",
        "1 57 1\r\n",
        "1 81 1\r\n",
        "1 214 1\r\n",
        "1 304 1\r\n",
        "1 328 1\r\n",
        "1 340 2\r\n",
        "1 441 2\r\n"
       ]
      }
     ],
     "prompt_number": 12
    },
    {
     "cell_type": "code",
     "collapsed": false,
     "input": [
      "import logging, gensim, bz2\n",
      "logging.basicConfig(format='%(asctime)s : %(levelname)s : %(message)s', level=logging.INFO)\n",
      "\n",
      "id2word = gensim.corpora.Dictionary.load_from_text('wiki_corpus/enwiki-20141208-pages-articles_wordids.txt.bz2')\n",
      "mm = gensim.corpora.MmCorpus('wiki_corpus/enwiki-20141208-pages-articles_tfidf.mm')"
     ],
     "language": "python",
     "metadata": {},
     "outputs": [],
     "prompt_number": 13
    },
    {
     "cell_type": "heading",
     "level": 1,
     "metadata": {},
     "source": [
      "Split"
     ]
    },
    {
     "cell_type": "code",
     "collapsed": false,
     "input": [
      "import numpy as np\n",
      "import scipy as sp"
     ],
     "language": "python",
     "metadata": {},
     "outputs": [],
     "prompt_number": 20
    },
    {
     "cell_type": "code",
     "collapsed": false,
     "input": [
      "mm = gensim.corpora.MmCorpus('wiki_corpus/enwiki-20141208-pages-articles_bow.mm')"
     ],
     "language": "python",
     "metadata": {},
     "outputs": [],
     "prompt_number": 19
    },
    {
     "cell_type": "code",
     "collapsed": false,
     "input": [
      "%%time\n",
      "corpus_csc = gensim.matutils.corpus2csc(mm)"
     ],
     "language": "python",
     "metadata": {},
     "outputs": []
    },
    {
     "cell_type": "code",
     "collapsed": false,
     "input": [
      "corpus_csc"
     ],
     "language": "python",
     "metadata": {},
     "outputs": []
    },
    {
     "cell_type": "code",
     "collapsed": false,
     "input": [],
     "language": "python",
     "metadata": {},
     "outputs": []
    },
    {
     "cell_type": "code",
     "collapsed": false,
     "input": [
      "np.random.permutation(mm.num_docs)"
     ],
     "language": "python",
     "metadata": {},
     "outputs": []
    },
    {
     "cell_type": "heading",
     "level": 2,
     "metadata": {},
     "source": [
      "What is Gensim MmCorpus?"
     ]
    },
    {
     "cell_type": "code",
     "collapsed": false,
     "input": [
      "print mm"
     ],
     "language": "python",
     "metadata": {},
     "outputs": [
      {
       "output_type": "stream",
       "stream": "stdout",
       "text": [
        "MmCorpus(3718495 documents, 100000 features, 576588282 non-zero entries)\n"
       ]
      }
     ],
     "prompt_number": 16
    },
    {
     "cell_type": "code",
     "collapsed": false,
     "input": [
      "mm.num_docs"
     ],
     "language": "python",
     "metadata": {},
     "outputs": [
      {
       "metadata": {},
       "output_type": "pyout",
       "prompt_number": 9,
       "text": [
        "3718495"
       ]
      }
     ],
     "prompt_number": 9
    },
    {
     "cell_type": "code",
     "collapsed": false,
     "input": [
      "mm.num_nnz"
     ],
     "language": "python",
     "metadata": {},
     "outputs": [
      {
       "metadata": {},
       "output_type": "pyout",
       "prompt_number": 10,
       "text": [
        "576588282"
       ]
      }
     ],
     "prompt_number": 10
    },
    {
     "cell_type": "code",
     "collapsed": false,
     "input": [
      "mm.num_terms"
     ],
     "language": "python",
     "metadata": {},
     "outputs": [
      {
       "metadata": {},
       "output_type": "pyout",
       "prompt_number": 11,
       "text": [
        "100000"
       ]
      }
     ],
     "prompt_number": 11
    },
    {
     "cell_type": "heading",
     "level": 2,
     "metadata": {},
     "source": [
      "Split corpus on train/hold-out and generate vw input"
     ]
    },
    {
     "cell_type": "code",
     "collapsed": false,
     "input": [
      "for "
     ],
     "language": "python",
     "metadata": {},
     "outputs": []
    }
   ],
   "metadata": {}
  }
 ]
}