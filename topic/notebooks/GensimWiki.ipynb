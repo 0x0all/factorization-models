{
 "metadata": {
  "language_info": {
   "codemirror_mode": {
    "name": "ipython",
    "version": 2
   },
   "mimetype": "text/x-python",
   "name": "python",
   "pygments_lexer": "ipython2"
  },
  "name": "",
  "signature": "sha256:138062667414f8280f71ead902743edfdcc6ee220c280b04701a04bd8e22866d"
 },
 "nbformat": 3,
 "nbformat_minor": 0,
 "worksheets": [
  {
   "cells": [
    {
     "cell_type": "code",
     "collapsed": false,
     "input": [
      "import logging, gensim, bz2\n",
      "logging.basicConfig(format='%(asctime)s : %(levelname)s : %(message)s', level=logging.INFO)\n",
      "\n",
      "id2word = gensim.corpora.Dictionary.load_from_text('./enwiki-20141208-pages-articles_wordids.txt.bz2')\n",
      "mm = gensim.corpora.MmCorpus('./enwiki-20141208-pages-articles_tfidf.mm')\n",
      "\n",
      "lda = gensim.models.ldamodel.LdaModel(corpus=mm, id2word=id2word, num_topics=100, update_every=1, chunksize=10000, passes=1)"
     ],
     "language": "python",
     "metadata": {},
     "outputs": []
    },
    {
     "cell_type": "code",
     "collapsed": false,
     "input": [
      "print mm"
     ],
     "language": "python",
     "metadata": {},
     "outputs": [
      {
       "output_type": "stream",
       "stream": "stdout",
       "text": [
        "MmCorpus(3718495 documents, 100000 features, 576588282 non-zero entries)\n"
       ]
      }
     ],
     "prompt_number": 14
    },
    {
     "cell_type": "code",
     "collapsed": false,
     "input": [
      "lda.save('gensim-lda.model')"
     ],
     "language": "python",
     "metadata": {},
     "outputs": [],
     "prompt_number": 26
    },
    {
     "cell_type": "code",
     "collapsed": false,
     "input": [
      "lda.eta"
     ],
     "language": "python",
     "metadata": {},
     "outputs": [
      {
       "metadata": {},
       "output_type": "pyout",
       "prompt_number": 30,
       "text": [
        "0.01"
       ]
      }
     ],
     "prompt_number": 30
    },
    {
     "cell_type": "code",
     "collapsed": false,
     "input": [
      "!du -hs gensim-lda.model.state"
     ],
     "language": "python",
     "metadata": {},
     "outputs": [
      {
       "output_type": "stream",
       "stream": "stdout",
       "text": [
        "77M\tgensim-lda.model.state\r\n"
       ]
      }
     ],
     "prompt_number": 28
    },
    {
     "cell_type": "code",
     "collapsed": false,
     "input": [
      "lda.print_topics()"
     ],
     "language": "python",
     "metadata": {},
     "outputs": [
      {
       "metadata": {},
       "output_type": "pyout",
       "prompt_number": 31,
       "text": [
        "[u'0.035*baseball + 0.020*hispanicized + 0.016*khader + 0.016*league + 0.010*panchayat + 0.010*bio + 0.009*pitcher + 0.008*hampson + 0.007*mlb + 0.006*wildcats',\n",
        " u'0.010*wisconsin + 0.006*republican + 0.006*senate + 0.005*florida + 0.005*virginia + 0.005*carolina + 0.005*illinois + 0.005*ohio + 0.004*representatives + 0.004*district',\n",
        " u'0.018*vietnam + 0.015*myanmar + 0.014*sukumari + 0.013*latvian + 0.012*vietnamese + 0.009*cambodia + 0.009*chen + 0.009*laos + 0.009*zhao + 0.008*burma',\n",
        " u'0.030*italian + 0.021*di + 0.014*italy + 0.008*il + 0.008*milan + 0.008*rome + 0.007*giovanni + 0.007*uci + 0.007*del + 0.007*della',\n",
        " u'0.025*al + 0.011*iran + 0.007*islamic + 0.007*iranian + 0.007*arab + 0.006*ali + 0.006*ye + 0.006*syrian + 0.005*sultan + 0.005*muhammad',\n",
        " u'0.035*stakes + 0.022*usl + 0.016*vodacom + 0.014*racecourse + 0.013*filly + 0.010*horse + 0.010*stud + 0.009*jiangsu + 0.009*changsha + 0.009*hubei',\n",
        " u'0.055*cricket + 0.031*sri + 0.028*cricketer + 0.026*wickets + 0.026*lanka + 0.025*matches + 0.024*batsman + 0.023*class + 0.020*runs + 0.019*repechage',\n",
        " u'0.027*championships + 0.021*rank + 0.016*event + 0.014*medal + 0.014*olympics + 0.013*men + 0.013*athlete + 0.012*nationality + 0.012*women + 0.012*games',\n",
        " u'0.043*norwegian + 0.034*danish + 0.027*ireland + 0.024*norway + 0.023*irish + 0.020*denmark + 0.019*copenhagen + 0.016*oslo + 0.016*og + 0.014*cork',\n",
        " u'0.022*aymara + 0.022*quechua + 0.016*satellite + 0.013*space + 0.011*paz + 0.009*nasa + 0.009*launch + 0.008*spacecraft + 0.008*orbit + 0.008*utc']"
       ]
      }
     ],
     "prompt_number": 31
    },
    {
     "cell_type": "code",
     "collapsed": false,
     "input": [
      "lda.state.get_Elogbeta().shape"
     ],
     "language": "python",
     "metadata": {},
     "outputs": [
      {
       "metadata": {},
       "output_type": "pyout",
       "prompt_number": 38,
       "text": [
        "(100, 100000)"
       ]
      }
     ],
     "prompt_number": 38
    },
    {
     "cell_type": "code",
     "collapsed": false,
     "input": [
      "lda.state.get_lambda().shape"
     ],
     "language": "python",
     "metadata": {},
     "outputs": [
      {
       "metadata": {},
       "output_type": "pyout",
       "prompt_number": 39,
       "text": [
        "(100, 100000)"
       ]
      }
     ],
     "prompt_number": 39
    },
    {
     "cell_type": "code",
     "collapsed": false,
     "input": [
      "lda.state.sstats.shape"
     ],
     "language": "python",
     "metadata": {},
     "outputs": [
      {
       "metadata": {},
       "output_type": "pyout",
       "prompt_number": 41,
       "text": [
        "(100, 100000)"
       ]
      }
     ],
     "prompt_number": 41
    },
    {
     "cell_type": "code",
     "collapsed": false,
     "input": [
      "lda.state.get_Elogbeta()"
     ],
     "language": "python",
     "metadata": {},
     "outputs": [
      {
       "metadata": {},
       "output_type": "pyout",
       "prompt_number": 43,
       "text": [
        "array([[-111.41323353, -111.41323353, -111.41323353, ..., -111.41323353,\n",
        "        -111.41323353, -111.41323353],\n",
        "       [-112.98000859, -112.98000859, -112.98000859, ..., -112.98000859,\n",
        "        -112.98000859, -112.98000859],\n",
        "       [-110.64844905, -110.64844905, -110.64844905, ..., -110.64844905,\n",
        "        -110.64844905, -110.64844905],\n",
        "       ..., \n",
        "       [-114.25374709, -114.25374709,  -10.85737132, ..., -114.25374709,\n",
        "        -114.25374709, -114.25374709],\n",
        "       [-111.12982256, -111.12982256, -111.12982256, ..., -111.12982256,\n",
        "        -111.12982256, -111.12982256],\n",
        "       [-112.7886335 , -112.7886335 , -112.7886335 , ..., -112.7886335 ,\n",
        "         -11.94561093, -112.7886335 ]])"
       ]
      }
     ],
     "prompt_number": 43
    },
    {
     "cell_type": "code",
     "collapsed": false,
     "input": [],
     "language": "python",
     "metadata": {},
     "outputs": []
    }
   ],
   "metadata": {}
  }
 ]
}