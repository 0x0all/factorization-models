{
 "metadata": {
  "language_info": {
   "codemirror_mode": {
    "name": "ipython",
    "version": 2
   },
   "mimetype": "text/x-python",
   "name": "python",
   "pygments_lexer": "ipython2"
  },
  "name": "",
  "signature": "sha256:6fd57a83f7b9bef0f44fc31e63b1af5d49b8948f6aa8d758693be5b997eb274d"
 },
 "nbformat": 3,
 "nbformat_minor": 0,
 "worksheets": [
  {
   "cells": [
    {
     "cell_type": "heading",
     "level": 1,
     "metadata": {},
     "source": [
      "Check Time"
     ]
    },
    {
     "cell_type": "code",
     "collapsed": true,
     "input": [
      "import os\n",
      "?os.times()"
     ],
     "language": "python",
     "metadata": {},
     "outputs": [],
     "prompt_number": 1
    },
    {
     "cell_type": "markdown",
     "metadata": {},
     "source": [
      "```\n",
      "times() -> (utime, stime, cutime, cstime, elapsed_time)\n",
      "\n",
      "Return a tuple of floating point numbers indicating process times.\n",
      "```"
     ]
    },
    {
     "cell_type": "code",
     "collapsed": false,
     "input": [
      "os.times()"
     ],
     "language": "python",
     "metadata": {},
     "outputs": [
      {
       "metadata": {},
       "output_type": "pyout",
       "prompt_number": 2,
       "text": [
        "(0.25, 0.08, 0.0, 0.0, 1421005961.19)"
       ]
      }
     ],
     "prompt_number": 2
    },
    {
     "cell_type": "heading",
     "level": 1,
     "metadata": {},
     "source": [
      "Load Gensim Model"
     ]
    },
    {
     "cell_type": "code",
     "collapsed": true,
     "input": [
      "from gensim.models.ldamodel import LdaModel"
     ],
     "language": "python",
     "metadata": {},
     "outputs": [],
     "prompt_number": 3
    },
    {
     "cell_type": "code",
     "collapsed": false,
     "input": [
      "model = LdaModel.load('./gensim-lda.model')\n",
      "model.state.get_Elogbeta()"
     ],
     "language": "python",
     "metadata": {},
     "outputs": []
    },
    {
     "cell_type": "heading",
     "level": 1,
     "metadata": {},
     "source": [
      "Wiki Corpus in Gensim"
     ]
    },
    {
     "cell_type": "code",
     "collapsed": true,
     "input": [
      "import logging, gensim, bz2\n",
      "logging.basicConfig(format='%(asctime)s : %(levelname)s : %(message)s', level=logging.INFO)\n",
      "\n",
      "id2word = gensim.corpora.Dictionary.load_from_text('data/wiki-corpus/enwiki-20141208-pages-articles_wordids.txt.bz2')\n",
      "mm = gensim.corpora.MmCorpus('data/wiki-corpus/wiki_bow_toy1.mm')"
     ],
     "language": "python",
     "metadata": {},
     "outputs": [],
     "prompt_number": 5
    },
    {
     "cell_type": "code",
     "collapsed": false,
     "input": [
      "print mm"
     ],
     "language": "python",
     "metadata": {},
     "outputs": [
      {
       "output_type": "stream",
       "stream": "stdout",
       "text": [
        "MmCorpus(1000 documents, 100000 features, 157918 non-zero entries)\n"
       ]
      }
     ],
     "prompt_number": 7
    }
   ],
   "metadata": {}
  }
 ]
}